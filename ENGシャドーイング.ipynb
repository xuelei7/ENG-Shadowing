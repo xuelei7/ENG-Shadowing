{
  "metadata": {
    "kernelspec": {
      "name": "python",
      "display_name": "Python (Pyodide)",
      "language": "python"
    },
    "language_info": {
      "codemirror_mode": {
        "name": "python",
        "version": 3
      },
      "file_extension": ".py",
      "mimetype": "text/x-python",
      "name": "python",
      "nbconvert_exporter": "python",
      "pygments_lexer": "ipython3",
      "version": "3.8"
    },
    "colab": {
      "provenance": [],
      "toc_visible": true,
      "include_colab_link": true
    }
  },
  "nbformat_minor": 0,
  "nbformat": 4,
  "cells": [
    {
      "cell_type": "markdown",
      "metadata": {
        "id": "view-in-github",
        "colab_type": "text"
      },
      "source": [
        "<a href=\"https://colab.research.google.com/github/xuelei7/random/blob/main/ENG%E3%82%B7%E3%83%A3%E3%83%89%E3%83%BC%E3%82%A4%E3%83%B3%E3%82%B0.ipynb\" target=\"_parent\"><img src=\"https://colab.research.google.com/assets/colab-badge.svg\" alt=\"Open In Colab\"/></a>"
      ]
    },
    {
      "cell_type": "markdown",
      "source": [
        "# エディターの使い方\n",
        "\n",
        "下の「セル」をクリックしてから、「▶」ボタンを押して、プログラムを実行してみてください。"
      ],
      "metadata": {
        "id": "ExEWEqFQxXEj"
      }
    },
    {
      "cell_type": "code",
      "source": [
        "print(\"Hello World\")"
      ],
      "metadata": {
        "trusted": true,
        "id": "Gfbq7GTKxXEl"
      },
      "outputs": [],
      "execution_count": null
    },
    {
      "cell_type": "markdown",
      "source": [
        "#### 実践\n",
        "\n",
        "printを使って、好きなメッセージを書いてください。"
      ],
      "metadata": {
        "id": "fiXRsBm7xXEl"
      }
    },
    {
      "cell_type": "code",
      "source": [
        "print(  )"
      ],
      "metadata": {
        "trusted": true,
        "id": "CvZz5ThCxXEm"
      },
      "outputs": [],
      "execution_count": null
    },
    {
      "cell_type": "markdown",
      "source": [
        "# 文字列と整数\n",
        "\n",
        "#### 文字列\n",
        "「\"\"」 で囲んだもの。例：\"こんにちは\"　\"りんご\"　\"２０２４\"\n",
        "\n",
        "#### 整数\n",
        "1, 20, 333, etc"
      ],
      "metadata": {
        "id": "gw--5ZzRxXEm"
      }
    },
    {
      "cell_type": "markdown",
      "source": [
        "#### 実践\n",
        "\n",
        "以下のプログラムを実行してみてください。"
      ],
      "metadata": {
        "id": "YGYEFogbxXEm"
      }
    },
    {
      "cell_type": "code",
      "source": [
        "print(\"こんにちは\")\n",
        "\n",
        "print(1234)"
      ],
      "metadata": {
        "trusted": true,
        "id": "o2rgqlHmxXEm"
      },
      "outputs": [],
      "execution_count": null
    },
    {
      "cell_type": "markdown",
      "source": [
        "# 演算\n",
        "\n",
        "| 符号 | 意味 |\n",
        "|:-:|:-:|\n",
        "| + | 加算 |\n",
        "| - | 減算 |\n",
        "| * | 乗算 |\n",
        "| / | 除算 |"
      ],
      "metadata": {
        "id": "FBGvsuvQxXEm"
      }
    },
    {
      "cell_type": "markdown",
      "source": [
        "#### 実践 1\n",
        "\n",
        "Shirleyさんは1995年生まれです。Shirleyの年齢をプログラムで計算してみてください。"
      ],
      "metadata": {
        "id": "Fjrm01WZxXEm"
      }
    },
    {
      "cell_type": "code",
      "source": [
        "print( 2024 -  )"
      ],
      "metadata": {
        "trusted": true,
        "id": "2dpV9EDoxXEm"
      },
      "outputs": [],
      "execution_count": null
    },
    {
      "cell_type": "markdown",
      "source": [
        "#### 実践 2\n",
        "\n",
        "以下のプログラムを利用して、自分の名前を「姓 名」の形で出力してみてください。"
      ],
      "metadata": {
        "id": "Q_6MIgIRxXEm"
      }
    },
    {
      "cell_type": "code",
      "source": [
        "print(\"姓\" + \" \" + \"名\")"
      ],
      "metadata": {
        "trusted": true,
        "id": "TI4F9nLwxXEn"
      },
      "outputs": [],
      "execution_count": null
    },
    {
      "cell_type": "markdown",
      "source": [
        "# 変数"
      ],
      "metadata": {
        "id": "Q9OJG6f1xXEn"
      }
    },
    {
      "cell_type": "code",
      "source": [
        "# 文字列を入れる\n",
        "message = \"こんにちは。お元気ですか？\"\n",
        "print(message)"
      ],
      "metadata": {
        "trusted": true,
        "id": "LTa6db5XxXEn"
      },
      "outputs": [],
      "execution_count": null
    },
    {
      "cell_type": "code",
      "source": [
        "# 変数の名前は英語じゃなくてもいい\n",
        "名前 = \"Shirley\"\n",
        "print(名前)"
      ],
      "metadata": {
        "trusted": true,
        "id": "XNebyFiLxXEn"
      },
      "outputs": [],
      "execution_count": null
    },
    {
      "cell_type": "code",
      "source": [
        "# 整数も変数に入る\n",
        "年齢 = 29\n",
        "print(年齢)"
      ],
      "metadata": {
        "trusted": true,
        "id": "x7LhYGpJxXEn"
      },
      "outputs": [],
      "execution_count": null
    },
    {
      "cell_type": "code",
      "source": [
        "自己紹介 = message + \"私は\" + 名前 + \"です。\" + str(年齢) + \"歳です。\"\n",
        "# これと同じです\n",
        "# 自己紹介 = \"こんにちは。お元気ですか？\" + \"私は\" + \"Shirley\" + \"です。\" + \"29\" + \"歳です。\"\n",
        "print(自己紹介)"
      ],
      "metadata": {
        "trusted": true,
        "id": "QlabMjFaxXEn"
      },
      "outputs": [],
      "execution_count": null
    },
    {
      "cell_type": "markdown",
      "source": [
        "#### 実践 1\n",
        "\n",
        "変数を使って、自分の名前と生年を出力してください。\n"
      ],
      "metadata": {
        "id": "gNVLtqqvxXEn"
      }
    },
    {
      "cell_type": "code",
      "source": [
        "# 名前と変数に入れる\n",
        "名前 =\n",
        "\n",
        "# 生年を変数に入れる\n",
        "\n",
        "\n",
        "# 出力する\n",
        "print(名前 + str( ))"
      ],
      "metadata": {
        "trusted": true,
        "id": "JyicN2KAxXEn"
      },
      "outputs": [],
      "execution_count": null
    },
    {
      "cell_type": "markdown",
      "source": [
        "#### 実践 2\n",
        "\n",
        "変数を使って、自分の年齢を計算してみてください。"
      ],
      "metadata": {
        "id": "cZqr8_wHxXEn"
      }
    },
    {
      "cell_type": "code",
      "source": [
        "生年 =\n",
        "\n",
        "年齢 = 2024 -\n",
        "\n",
        "print(年齢)"
      ],
      "metadata": {
        "trusted": true,
        "id": "h_9nBckfxXEn"
      },
      "outputs": [],
      "execution_count": null
    },
    {
      "cell_type": "markdown",
      "source": [
        "\n",
        "# 入力\n"
      ],
      "metadata": {
        "id": "Dj_bNj0rxXEo"
      }
    },
    {
      "cell_type": "code",
      "source": [
        "input(\"あなたの名前は？\")"
      ],
      "metadata": {
        "trusted": true,
        "colab": {
          "base_uri": "https://localhost:8080/",
          "height": 52
        },
        "id": "mTAw6F04xXEo",
        "outputId": "cba535c8-120d-4ae5-d104-10f16e5e1e7e"
      },
      "outputs": [
        {
          "name": "stdout",
          "output_type": "stream",
          "text": [
            "あなたの名前は？shi\n"
          ]
        },
        {
          "output_type": "execute_result",
          "data": {
            "text/plain": [
              "'shi'"
            ],
            "application/vnd.google.colaboratory.intrinsic+json": {
              "type": "string"
            }
          },
          "metadata": {},
          "execution_count": 1
        }
      ],
      "execution_count": 1
    },
    {
      "cell_type": "code",
      "source": [
        "名前 = input(\"あなたの名前は？\")\n",
        "\n",
        "print(名前)"
      ],
      "metadata": {
        "trusted": true,
        "colab": {
          "base_uri": "https://localhost:8080/"
        },
        "id": "pBhW37pIxXEo",
        "outputId": "572e512b-cd2c-456c-f32d-d7a1317a68fd"
      },
      "outputs": [
        {
          "output_type": "stream",
          "name": "stdout",
          "text": [
            "あなたの名前は？ddd\n",
            "ddd\n"
          ]
        }
      ],
      "execution_count": 4
    },
    {
      "cell_type": "markdown",
      "source": [
        "# 実践 1\n",
        "\n",
        "自分の名前を入力したら、挨拶を返してくれるプログラムを作りましょう！"
      ],
      "metadata": {
        "id": "r4fgFxckxXEo"
      }
    },
    {
      "cell_type": "code",
      "source": [
        "# inputで名前を入力から受け取る\n",
        "# inputから受け取った値を変数にいれる\n",
        " = input(\"???\")\n",
        "\n",
        "# 名前が入った変数を他の文字列を足し合わせて、挨拶を作くる\n",
        "# 挨拶を変数に入れる\n",
        "挨拶 =\n",
        "\n",
        "# 挨拶の変数を出力する\n",
        "print(挨拶)"
      ],
      "metadata": {
        "trusted": true,
        "id": "d32Do8YAxXEo"
      },
      "outputs": [],
      "execution_count": null
    },
    {
      "cell_type": "markdown",
      "source": [
        "# 実践 2\n",
        "\n",
        "自分の生まれた年を入力し、自分の年齢を計算しましょう。"
      ],
      "metadata": {
        "id": "MiNvdXsIxXEo"
      }
    },
    {
      "cell_type": "code",
      "source": [
        "# inputで生年を入力から受け取る\n",
        "# int()で読み取った入力を文字列から整数へと変換する\n",
        "# inputから受け取った値を変数にいれる\n",
        "生年 = int(input(\"???\"))\n",
        "\n",
        "\n",
        "# 生年が入った変数で年齢を計算する\n",
        "# 計算した年齢を変数に入れる\n",
        "\n",
        "\n",
        "\n",
        "# 年齢の変数を出力する\n",
        "\n",
        "\n"
      ],
      "metadata": {
        "trusted": true,
        "id": "pxKmVkIgxXEo"
      },
      "outputs": [],
      "execution_count": null
    },
    {
      "cell_type": "markdown",
      "source": [
        "# 実践 3\n",
        "\n",
        "（余裕がある方）\n",
        "\n",
        "ユーザが入力した２つの数字の平均値を出力してください。"
      ],
      "metadata": {
        "id": "beWWe9DOxXEo"
      }
    },
    {
      "cell_type": "code",
      "source": [],
      "metadata": {
        "trusted": true,
        "id": "wxdx8qxQxXEo"
      },
      "outputs": [],
      "execution_count": null
    }
  ]
}