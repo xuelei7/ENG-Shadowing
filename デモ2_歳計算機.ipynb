{
  "nbformat": 4,
  "nbformat_minor": 0,
  "metadata": {
    "colab": {
      "provenance": [],
      "authorship_tag": "ABX9TyOTu4LQC/ZURqSI5FTTS14H",
      "include_colab_link": true
    },
    "kernelspec": {
      "name": "python3",
      "display_name": "Python 3"
    },
    "language_info": {
      "name": "python"
    }
  },
  "cells": [
    {
      "cell_type": "markdown",
      "metadata": {
        "id": "view-in-github",
        "colab_type": "text"
      },
      "source": [
        "<a href=\"https://colab.research.google.com/github/xuelei7/ENG-Shadowing/blob/main/%E3%83%87%E3%83%A22_%E6%AD%B3%E8%A8%88%E7%AE%97%E6%A9%9F.ipynb\" target=\"_parent\"><img src=\"https://colab.research.google.com/assets/colab-badge.svg\" alt=\"Open In Colab\"/></a>"
      ]
    },
    {
      "cell_type": "code",
      "execution_count": null,
      "metadata": {
        "cellView": "form",
        "id": "K1OGM-aQ2o0U"
      },
      "outputs": [],
      "source": [
        "# @title\n",
        "生年 = input(\"あなたの生年は？\")\n",
        "年齢 = 2024 - int(生年)\n",
        "print(\"あなたは今年 \" + str(年齢) + \" 歳です。\")"
      ]
    }
  ]
}