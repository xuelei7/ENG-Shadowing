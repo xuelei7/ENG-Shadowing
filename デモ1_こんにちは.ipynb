{
  "nbformat": 4,
  "nbformat_minor": 0,
  "metadata": {
    "colab": {
      "provenance": [],
      "authorship_tag": "ABX9TyOcRSTsuYFeSYVYqi8/yN7A",
      "include_colab_link": true
    },
    "kernelspec": {
      "name": "python3",
      "display_name": "Python 3"
    },
    "language_info": {
      "name": "python"
    }
  },
  "cells": [
    {
      "cell_type": "markdown",
      "metadata": {
        "id": "view-in-github",
        "colab_type": "text"
      },
      "source": [
        "<a href=\"https://colab.research.google.com/github/xuelei7/ENG-Shadowing/blob/main/%E3%83%87%E3%83%A21_%E3%81%93%E3%82%93%E3%81%AB%E3%81%A1%E3%81%AF.ipynb\" target=\"_parent\"><img src=\"https://colab.research.google.com/assets/colab-badge.svg\" alt=\"Open In Colab\"/></a>"
      ]
    },
    {
      "cell_type": "code",
      "execution_count": null,
      "metadata": {
        "cellView": "form",
        "id": "ipnTaIUQ1liA"
      },
      "outputs": [],
      "source": [
        "# @title\n",
        "名前 = input(\"あたなの名前は？\")\n",
        "print(\"こんにちは！\" + 名前 + \"さん\")"
      ]
    }
  ]
}